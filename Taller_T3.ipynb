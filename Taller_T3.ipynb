{
  "nbformat": 4,
  "nbformat_minor": 0,
  "metadata": {
    "colab": {
      "name": "Taller-T3.ipynb",
      "provenance": [],
      "collapsed_sections": [],
      "toc_visible": true,
      "include_colab_link": true
    },
    "kernelspec": {
      "name": "python3",
      "display_name": "Python 3"
    },
    "language_info": {
      "name": "python"
    },
    "accelerator": "GPU"
  },
  "cells": [
    {
      "cell_type": "markdown",
      "metadata": {
        "id": "view-in-github",
        "colab_type": "text"
      },
      "source": [
        "<a href=\"https://colab.research.google.com/github/Forgettttts/Pregunta-3-Certamen-2-Discretas/blob/master/Taller_T3.ipynb\" target=\"_parent\"><img src=\"https://colab.research.google.com/assets/colab-badge.svg\" alt=\"Open In Colab\"/></a>"
      ]
    },
    {
      "cell_type": "code",
      "metadata": {
        "colab": {
          "base_uri": "https://localhost:8080/"
        },
        "id": "zVojijt8tUSI",
        "outputId": "8afcb8fc-0221-4aab-c5a6-d55b09a0201c"
      },
      "source": [
        "import tensorflow as tf\n",
        "device_name = tf.test.gpu_device_name()\n",
        "if device_name != '/device:GPU:0':\n",
        "  raise SystemError('GPU device not found')\n",
        "print('Found GPU at: {}'.format(device_name))"
      ],
      "execution_count": 1,
      "outputs": [
        {
          "output_type": "stream",
          "text": [
            "Found GPU at: /device:GPU:0\n"
          ],
          "name": "stdout"
        }
      ]
    },
    {
      "cell_type": "markdown",
      "metadata": {
        "id": "9FDI6Km_IgLD"
      },
      "source": [
        "# Cachipún"
      ]
    },
    {
      "cell_type": "markdown",
      "metadata": {
        "id": "fmwSOYyrIl3W"
      },
      "source": [
        "<table align='left'>\n",
        "<tr>\n",
        "<td><img src='https://i.ytimg.com/vi/ymK9LXkO0O0/maxresdefault.jpg' width='750'/> </td>\n",
        "</tr>\n",
        "</table>\n"
      ]
    },
    {
      "cell_type": "markdown",
      "metadata": {
        "id": "IwGm28siLfg8"
      },
      "source": [
        "## Introducción"
      ]
    },
    {
      "cell_type": "markdown",
      "metadata": {
        "id": "QrwI1hVLI4Z2"
      },
      "source": [
        "El *cachipún* es un juego de manos muy practicado en nuestro país en el que existen tres movimientos posibles: la *piedra* que vence a la *tijera* rompiéndola, la *tijera* que vence al *papel* cortándolo, y el *papel* que vence a la *piedra* envolviéndola. En una ronda estándar de cachipún, dos jugadores cuentan juntos \"1, 2, 3 ...\" o directamente ¡ca, chi, pun! y justo al terminar muestran los dos al mismo tiempo una de sus manos, de modo que pueda verse el movimiento que cada uno ha elegido jugar y pueda determinarse el ganador.\n",
        "\n"
      ]
    },
    {
      "cell_type": "markdown",
      "metadata": {
        "id": "YYDJQJ1oLnfC"
      },
      "source": [
        "## Actividad 1 "
      ]
    },
    {
      "cell_type": "markdown",
      "metadata": {
        "id": "ylji-vNvMICZ"
      },
      "source": [
        "Simule una situación en que usted y un oponente juegan al cachipún con las siguientes recompensas. Si uno de los jugadores muestra piedra y el otro tijeras, el primer jugador obtiene 5000. Si uno de los jugadores muestra tijeras y el otro papel, el primer jugador obtiene 3000. Si uno de los jugadores muestra papel y el otro piedra, el primer jugador obtiene 1000. En cualquier otro caso (empate) no hay intercambio de dinero. Suponga que en todos los turnos, ambos jugadores eligen uno de los tres movimientos posibles con igual probabilidad y que en caso de empate no hay intercambio de dinero. \n",
        "\n",
        "\n"
      ]
    },
    {
      "cell_type": "markdown",
      "metadata": {
        "id": "HzbV8IlP5NG-"
      },
      "source": [
        "1.   Determine experimentalmente la función de probabilidad $f(x)$ y el valor esperado $\\mathbb{E}(X)$ de la recompensa $X$ que obtendrá en un turno. Compare los valores experimentales con los valores teóricos y comente. ¿Es correcto afirmar que $\\mathbb{E}(X)$ es el valor más probable de la recompensa que obtendrá? ¿Es correcto afirmar que si juega con $10$ adversarios que ejecutan la misma estrategia su recompensa esperada es $10 \\cdot \\mathbb{E}(X)$?  \n",
        "\n",
        "2.   Determine experimentalmente la función de probabilidad $f(z)$, el valor esperado $\\mathbb{E}(Z)$, y la varianza $\\mathbb{V}(Z)$ de la recompensa total $Z$ que obtendrá después de jugar 10 rondas. Presente la f.d.p. usando un gráfico de barras y comente. ¿Es correcto afirmar que $\\mathbb{E}(Z)$ es el valor más probable de la recompensa que obtendrá? ¿Es cierto que $Z = 10 \\cdot X$? ¿Es cierto que $\\mathbb{E}(Z) = 10 \\cdot \\mathbb{E}(X)$? ¿Es cierto que $\\mathbb{V}(Z) = 10 \\cdot \\mathbb{V}(X)$? \n",
        "\n",
        "3.   Defina $T$ como el número de rondas en que usted y su oponente empatan después de jugar 10 veces. Determine la f.d.p, el valor esperado y la varianza de $T$ usando sólo papel, lápiz y pensamiento. Luego, use su simulación para verificar los resultados. Concluya.\n",
        "\n",
        "4.   Suponga que usted decide continuar en el juego siempre y cuando no supere las 5 derrotas. Si definimos $S$ como el número de rondas jugadas, determine la f.d.p, el valor esperado y la varianza de $S$ usando sólo papel, lápiz y pensamiento. Luego, use su simulación para verificar los resultados. Concluya.\n",
        "\n",
        "5.   Suponga que usted y su oponente pactan iterar el juego hasta que la recompensa total de cualquiera de los jugadores exceda los 10.000 pesos. Si definimos $R$ como el número de rondas jugadas, use su simulación para determinar experimentalmente la f.d.p, el valor esperado y la varianza de $R$.\n",
        "\n",
        "6.  Asumiendo que su oponente mantiene la estrategia básica, proponga una estrategia diferente y determine si efectivamente le permite mejorar el valor esperado de su recompensa al jugar 10 rondas consecutivas. ¿Puede asegurar que su estrategia le permite obtener siempre recompensas positivas?\n"
      ]
    },
    {
      "cell_type": "markdown",
      "metadata": {
        "id": "32mOvhZw7deH"
      },
      "source": [
        "Nota: cuando un jugador pierde dinero en una ronda, su recompensa en esa ronda es negativa y contribuye negativamente a la recompensa total acumulada en el juego (suma de recompensas cada ronda).\n"
      ]
    },
    {
      "cell_type": "markdown",
      "metadata": {
        "id": "Kk76TRtErTNJ"
      },
      "source": [
        "#Ideas para desarrollo:\n",
        "\n",
        "## Pregunta 1:\n",
        "**OJO QUE ACA ES SOLO CON UN TURNO**\n",
        "\n",
        "Hay que definir los eventos con numeros, en base a una persona, es decir\n",
        "\n",
        "si $X=6$: Piedra v/s tijeras -> $g(6)=5000$\n",
        "\n",
        "si $X=5$: tijeras v/s Papel -> $g(5)=3000$\n",
        "\n",
        "si $X=4$: Papel v/s Piedra -> $g(4)=1000$\n",
        "\n",
        "si $X=3$: empate -> $g(3)=0$\n",
        "\n",
        "si $X=2$: Piedra v/s Papel -> $g(2)=-1000$\n",
        "\n",
        "si $X=1$: Papel v/s Tijeras -> $g(1)=-3000$\n",
        "\n",
        "si $X=0$: Tijeras v/s Piedra -> $g(0)=-5000$\n",
        "\n",
        "Luego, tendremos definidas las fdp, para calcular la esperanza seria llegar y aplicar la ecuacion de la esperanza\n",
        "\n",
        "*Extra: podemos hacer un grafico de barras, en el eje x los valores de x y en el eje y, los valores que se pueden ganar (g(x))\n",
        "\n",
        "\n",
        "---\n",
        "\n",
        "## Pregunta 2:\n",
        "\n",
        "**Acá ya son 10 rondas**\n",
        "\n",
        "**Colocar grafico de barras y comentar**\n",
        "\n",
        "¿Que wea es $Z$?"
      ]
    },
    {
      "cell_type": "code",
      "metadata": {
        "id": "WZZB_iH33v6Z"
      },
      "source": [
        "from google.colab import drive\n",
        "drive.mount('/content/drive')"
      ],
      "execution_count": null,
      "outputs": []
    },
    {
      "cell_type": "markdown",
      "metadata": {
        "id": "DgZR0TZRUTCM"
      },
      "source": [
        "## Actividad 2 (Opcional)\n",
        "\n",
        "Suponga que su oponente mantiene la estrategia anterior excepto cuando gana un turno. En este caso, repite el movimiento ganador en el siguiente turno con probabilidad $0.5$."
      ]
    },
    {
      "cell_type": "markdown",
      "metadata": {
        "id": "96109rixVrZB"
      },
      "source": [
        "\n",
        "\n",
        "1.   Determine el valor esperado de la recompensa que obtendría después de $50$ rondas si usted ejecuta la misma estretagia de antes.\n",
        "\n",
        "2.   Proponga una estrategia diferente y demuestre que le permite mejorar sus utilidades esperadas al jugar $50$ rondas consecutivas. ¿Puede asegurar que su estrategia le permite obtener siempre recompensas positivas? ¿Puede asegurar que su estrategia hace más probable obtener recompensas positivas?\n",
        "\n"
      ]
    }
  ]
}